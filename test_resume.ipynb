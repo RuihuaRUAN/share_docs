{
 "cells": [
  {
   "cell_type": "markdown",
   "metadata": {
    "toc": true
   },
   "source": [
    "<h1>Table of Contents<span class=\"tocSkip\"></span></h1>\n",
    "<div class=\"toc\"><ul class=\"toc-item\"><li><span><a href=\"#Model-definitions\" data-toc-modified-id=\"Model-definitions-1\"><span class=\"toc-item-num\">1&nbsp;&nbsp;</span>Model definitions</a></span><ul class=\"toc-item\"><li><span><a href=\"#General-model\" data-toc-modified-id=\"General-model-1.1\"><span class=\"toc-item-num\">1.1&nbsp;&nbsp;</span>General model</a></span></li><li><span><a href=\"#Symmetric-model\" data-toc-modified-id=\"Symmetric-model-1.2\"><span class=\"toc-item-num\">1.2&nbsp;&nbsp;</span>Symmetric model</a></span></li><li><span><a href=\"#Sparse-model\" data-toc-modified-id=\"Sparse-model-1.3\"><span class=\"toc-item-num\">1.3&nbsp;&nbsp;</span>Sparse model</a></span></li></ul></li><li><span><a href=\"#Tests\" data-toc-modified-id=\"Tests-2\"><span class=\"toc-item-num\">2&nbsp;&nbsp;</span>Tests</a></span><ul class=\"toc-item\"><li><span><a href=\"#Test-0-:-easy-matrix-(small-spectral-radius)\" data-toc-modified-id=\"Test-0-:-easy-matrix-(small-spectral-radius)-2.1\"><span class=\"toc-item-num\">2.1&nbsp;&nbsp;</span>Test 0 : easy matrix (small spectral radius)</a></span><ul class=\"toc-item\"><li><span><a href=\"#Estimating-by-General-model\" data-toc-modified-id=\"Estimating-by-General-model-2.1.1\"><span class=\"toc-item-num\">2.1.1&nbsp;&nbsp;</span>Estimating by General model</a></span></li><li><span><a href=\"#Estimating-by-Sparse-model\" data-toc-modified-id=\"Estimating-by-Sparse-model-2.1.2\"><span class=\"toc-item-num\">2.1.2&nbsp;&nbsp;</span>Estimating by Sparse model</a></span></li></ul></li><li><span><a href=\"#Test-1-:-full-matrix\" data-toc-modified-id=\"Test-1-:-full-matrix-2.2\"><span class=\"toc-item-num\">2.2&nbsp;&nbsp;</span>Test 1 : full matrix</a></span><ul class=\"toc-item\"><li><span><a href=\"#Estimating-by-General-model\" data-toc-modified-id=\"Estimating-by-General-model-2.2.1\"><span class=\"toc-item-num\">2.2.1&nbsp;&nbsp;</span>Estimating by General model</a></span></li></ul></li><li><span><a href=\"#Test-2-:-symmetric-R\" data-toc-modified-id=\"Test-2-:-symmetric-R-2.3\"><span class=\"toc-item-num\">2.3&nbsp;&nbsp;</span>Test 2 : symmetric R</a></span><ul class=\"toc-item\"><li><span><a href=\"#Estimating-by-General-model\" data-toc-modified-id=\"Estimating-by-General-model-2.3.1\"><span class=\"toc-item-num\">2.3.1&nbsp;&nbsp;</span>Estimating by General model</a></span></li><li><span><a href=\"#Estimating-by-symmetric-model\" data-toc-modified-id=\"Estimating-by-symmetric-model-2.3.2\"><span class=\"toc-item-num\">2.3.2&nbsp;&nbsp;</span>Estimating by symmetric model</a></span></li><li><span><a href=\"#Estimating-by-sparse-model\" data-toc-modified-id=\"Estimating-by-sparse-model-2.3.3\"><span class=\"toc-item-num\">2.3.3&nbsp;&nbsp;</span>Estimating by sparse model</a></span></li></ul></li><li><span><a href=\"#Test-3-:-sparse-$||\\Phi||$\" data-toc-modified-id=\"Test-3-:-sparse-$||\\Phi||$-2.4\"><span class=\"toc-item-num\">2.4&nbsp;&nbsp;</span>Test 3 : sparse $||\\Phi||$</a></span><ul class=\"toc-item\"><li><span><a href=\"#Estimating-by-General-model\" data-toc-modified-id=\"Estimating-by-General-model-2.4.1\"><span class=\"toc-item-num\">2.4.1&nbsp;&nbsp;</span>Estimating by General model</a></span></li><li><span><a href=\"#Estimating-by-symmetric-model\" data-toc-modified-id=\"Estimating-by-symmetric-model-2.4.2\"><span class=\"toc-item-num\">2.4.2&nbsp;&nbsp;</span>Estimating by symmetric model</a></span></li><li><span><a href=\"#Estimating-by-sparse-model\" data-toc-modified-id=\"Estimating-by-sparse-model-2.4.3\"><span class=\"toc-item-num\">2.4.3&nbsp;&nbsp;</span>Estimating by sparse model</a></span></li></ul></li></ul></li></ul></div>"
   ]
  },
  {
   "cell_type": "code",
   "execution_count": 1,
   "metadata": {},
   "outputs": [],
   "source": [
    "# import image module\n",
    "from IPython.display import Image"
   ]
  },
  {
   "cell_type": "markdown",
   "metadata": {},
   "source": [
    "# Model definitions\n",
    "## General model\n",
    "\n",
    "**variables** [21]: \n",
    "- $R$ [4x4 variables]\n",
    "- $\\mu_X = (\\nu, \\nu)$ [1 variable]\n",
    "- $\\mu_S$ [4 variables]\n",
    "\n",
    "**equations** [30]: \n",
    "- Mean intensities $\\Lambda$ [4 eqs]\n",
    "- Covariance $C$ [10 eqs]\n",
    "- Skewness $K_c = (K^{ijj})$ [16 eqs]\n",
    "\n",
    "## Symmetric model \n",
    "**variables** [13]: \n",
    "- $R = \\left(\\begin{array}{cccc}\n",
    "    a & x & y & b \\\\ \n",
    "    x & a & b & y \\\\ \n",
    "    z & c & d & w \\\\ \n",
    "    c & z & w & d \\\\\n",
    "    \\end{array}\\right)$ [8 variables]  (locally symmetric)\n",
    "- $\\mu_X = (\\nu, \\nu)$ [1 variable]\n",
    "$\\mu_S$ [4 variables]\n",
    "\n",
    "**equations** [> 14 eqs]: \n",
    "- Mean intensities $\\Lambda$ [4 eqs]\n",
    "- Covariance $C$ [> 6 eqs]\n",
    "- Skewness $K_c = (K^{ijj})$ [? eqs] (unnecessary to use all) (Skewness of $P^+_i - P^-_i$ is enought, [4 eqs])\n",
    "\n",
    "## Sparse model\n",
    "\n",
    "**variables** [9]: \n",
    "- $\\Phi = \\left(\\begin{array}{cccc}\n",
    "0&x&y&0\\\\ x&0&0&y\\\\ z&0&0&w \\\\ 0&z&w&0\\\\\n",
    "\\end{array}\\right)$ [4 variables]\n",
    "- $\\mu_X = (\\nu, \\nu)$ [1 variable]\n",
    "- $\\mu_S$ [4 variables]\n",
    "\n",
    "**equations** [> 10 eqs]: \n",
    "- Mean intensities $\\Lambda$ [4 eqs]\n",
    "- Covariance $C$ [6 eqs]\n",
    "- Skewness $K_c = (K^{ijj})$ [? eqs] (unnecessary)\n",
    "\n"
   ]
  },
  {
   "cell_type": "markdown",
   "metadata": {},
   "source": [
    "# Tests"
   ]
  },
  {
   "cell_type": "markdown",
   "metadata": {},
   "source": [
    "## Test 0 : easy matrix (small spectral radius)"
   ]
  },
  {
   "cell_type": "markdown",
   "metadata": {},
   "source": [
    "### Estimating by General model"
   ]
  },
  {
   "cell_type": "code",
   "execution_count": 2,
   "metadata": {},
   "outputs": [
    {
     "data": {
      "text/html": [
       "<img src=\"./run/ex-easy-res/full_param.png\" width=\"1500\"/>"
      ],
      "text/plain": [
       "<IPython.core.display.Image object>"
      ]
     },
     "execution_count": 2,
     "metadata": {},
     "output_type": "execute_result"
    }
   ],
   "source": [
    "Image(url=\"./run/ex-easy-res/full_param.png\", width=1500)\n"
   ]
  },
  {
   "cell_type": "markdown",
   "metadata": {},
   "source": [
    "### Estimating by Sparse model"
   ]
  },
  {
   "cell_type": "code",
   "execution_count": 3,
   "metadata": {},
   "outputs": [
    {
     "data": {
      "text/html": [
       "<img src=\"./run/ex-easy-res/sparse_param.png\" width=\"1200\"/>"
      ],
      "text/plain": [
       "<IPython.core.display.Image object>"
      ]
     },
     "execution_count": 3,
     "metadata": {},
     "output_type": "execute_result"
    }
   ],
   "source": [
    "Image(url=\"./run/ex-easy-res/sparse_param.png\", width=1200)\n"
   ]
  },
  {
   "cell_type": "markdown",
   "metadata": {},
   "source": [
    "## Test 1 : full matrix"
   ]
  },
  {
   "cell_type": "markdown",
   "metadata": {},
   "source": [
    "### Estimating by General model"
   ]
  },
  {
   "cell_type": "code",
   "execution_count": 4,
   "metadata": {
    "scrolled": false
   },
   "outputs": [
    {
     "data": {
      "text/html": [
       "<img src=\"./run/ex-general/full_param_cs0.996.png\" width=\"1200\"/>"
      ],
      "text/plain": [
       "<IPython.core.display.Image object>"
      ]
     },
     "execution_count": 4,
     "metadata": {},
     "output_type": "execute_result"
    }
   ],
   "source": [
    "Image(url=\"./run/ex-general/full_param_cs0.996.png\", width=1200)"
   ]
  },
  {
   "cell_type": "markdown",
   "metadata": {},
   "source": [
    "## Test 2 : symmetric R"
   ]
  },
  {
   "cell_type": "markdown",
   "metadata": {},
   "source": [
    "### Estimating by General model"
   ]
  },
  {
   "cell_type": "code",
   "execution_count": 5,
   "metadata": {},
   "outputs": [
    {
     "data": {
      "text/html": [
       "<img src=\"./run/ex-symR/full_param_cs0.997.png\" width=\"1200\"/>"
      ],
      "text/plain": [
       "<IPython.core.display.Image object>"
      ]
     },
     "execution_count": 5,
     "metadata": {},
     "output_type": "execute_result"
    }
   ],
   "source": [
    "Image(url=\"./run/ex-symR/full_param_cs0.997.png\", width=1200)"
   ]
  },
  {
   "cell_type": "markdown",
   "metadata": {},
   "source": [
    "### Estimating by symmetric model"
   ]
  },
  {
   "cell_type": "code",
   "execution_count": 6,
   "metadata": {},
   "outputs": [
    {
     "data": {
      "text/html": [
       "<img src=\"./run/ex-symR/symR_param.png\" width=\"1200\"/>"
      ],
      "text/plain": [
       "<IPython.core.display.Image object>"
      ]
     },
     "execution_count": 6,
     "metadata": {},
     "output_type": "execute_result"
    }
   ],
   "source": [
    "Image(url=\"./run/ex-symR/symR_param.png\", width=1200)"
   ]
  },
  {
   "cell_type": "markdown",
   "metadata": {},
   "source": [
    "### Estimating by sparse model"
   ]
  },
  {
   "cell_type": "code",
   "execution_count": 7,
   "metadata": {},
   "outputs": [
    {
     "data": {
      "text/html": [
       "<img src=\"./run/ex-symR/sparse_param.png\" width=\"1200\"/>"
      ],
      "text/plain": [
       "<IPython.core.display.Image object>"
      ]
     },
     "execution_count": 7,
     "metadata": {},
     "output_type": "execute_result"
    }
   ],
   "source": [
    "Image(url=\"./run/ex-symR/sparse_param.png\", width=1200)"
   ]
  },
  {
   "cell_type": "markdown",
   "metadata": {},
   "source": [
    "## Test 3 : sparse $||\\Phi||$"
   ]
  },
  {
   "cell_type": "markdown",
   "metadata": {},
   "source": [
    "### Estimating by General model"
   ]
  },
  {
   "cell_type": "code",
   "execution_count": 8,
   "metadata": {
    "scrolled": true
   },
   "outputs": [
    {
     "data": {
      "text/html": [
       "<img src=\"./run/ex-sparse/full_param_cs0.991.png\" width=\"1200\"/>"
      ],
      "text/plain": [
       "<IPython.core.display.Image object>"
      ]
     },
     "execution_count": 8,
     "metadata": {},
     "output_type": "execute_result"
    }
   ],
   "source": [
    "Image(url=\"./run/ex-sparse/full_param_cs0.991.png\", width=1200)"
   ]
  },
  {
   "cell_type": "markdown",
   "metadata": {},
   "source": [
    "### Estimating by symmetric model"
   ]
  },
  {
   "cell_type": "code",
   "execution_count": 9,
   "metadata": {
    "scrolled": true
   },
   "outputs": [
    {
     "data": {
      "text/html": [
       "<img src=\"./run/ex-sparse/symR_param.png\" width=\"1200\"/>"
      ],
      "text/plain": [
       "<IPython.core.display.Image object>"
      ]
     },
     "execution_count": 9,
     "metadata": {},
     "output_type": "execute_result"
    }
   ],
   "source": [
    "Image(url=\"./run/ex-sparse/symR_param.png\", width=1200)"
   ]
  },
  {
   "cell_type": "markdown",
   "metadata": {},
   "source": [
    "### Estimating by sparse model"
   ]
  },
  {
   "cell_type": "code",
   "execution_count": 10,
   "metadata": {},
   "outputs": [
    {
     "data": {
      "text/html": [
       "<img src=\"./run/ex-sparse/sparse_param.png\" width=\"1200\"/>"
      ],
      "text/plain": [
       "<IPython.core.display.Image object>"
      ]
     },
     "execution_count": 10,
     "metadata": {},
     "output_type": "execute_result"
    }
   ],
   "source": [
    "Image(url=\"./run/ex-sparse/sparse_param.png\", width=1200)"
   ]
  }
 ],
 "metadata": {
  "kernelspec": {
   "display_name": "Python 3 (ipykernel)",
   "language": "python",
   "name": "python3"
  },
  "language_info": {
   "codemirror_mode": {
    "name": "ipython",
    "version": 3
   },
   "file_extension": ".py",
   "mimetype": "text/x-python",
   "name": "python",
   "nbconvert_exporter": "python",
   "pygments_lexer": "ipython3",
   "version": "3.8.8"
  },
  "toc": {
   "base_numbering": 1,
   "nav_menu": {},
   "number_sections": true,
   "sideBar": true,
   "skip_h1_title": false,
   "title_cell": "Table of Contents",
   "title_sidebar": "Contents",
   "toc_cell": true,
   "toc_position": {},
   "toc_section_display": true,
   "toc_window_display": false
  },
  "varInspector": {
   "cols": {
    "lenName": 16,
    "lenType": 16,
    "lenVar": 40
   },
   "kernels_config": {
    "python": {
     "delete_cmd_postfix": "",
     "delete_cmd_prefix": "del ",
     "library": "var_list.py",
     "varRefreshCmd": "print(var_dic_list())"
    },
    "r": {
     "delete_cmd_postfix": ") ",
     "delete_cmd_prefix": "rm(",
     "library": "var_list.r",
     "varRefreshCmd": "cat(var_dic_list()) "
    }
   },
   "types_to_exclude": [
    "module",
    "function",
    "builtin_function_or_method",
    "instance",
    "_Feature"
   ],
   "window_display": false
  },
  "vscode": {
   "interpreter": {
    "hash": "68fe23ab84d158812868a62e57d715fc12f313733653d3ec9ef1a641929f6f25"
   }
  }
 },
 "nbformat": 4,
 "nbformat_minor": 2
}
