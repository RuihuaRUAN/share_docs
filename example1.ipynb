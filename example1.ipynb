{
 "cells": [
  {
   "cell_type": "markdown",
   "id": "62c1f780",
   "metadata": {},
   "source": [
    "# Example 1 -- noiseless $C$ and $K$"
   ]
  },
  {
   "cell_type": "code",
   "execution_count": 37,
   "id": "df33fa2d",
   "metadata": {},
   "outputs": [],
   "source": [
    "import numpy as np\n",
    "import pandas as pd\n",
    "import matplotlib.pyplot as plt\n",
    "from tqdm.auto import tqdm\n",
    "import tensorflow as tf\n",
    "import seaborn as sns\n",
    "from simulation_v1 import *\n",
    "from train_v1 import theoretical_C_K_obs\n",
    "from estim_v1 import Optim_tf\n",
    "\n",
    "from tick.hawkes import HawkesCumulantMatching\n",
    "from tick.hawkes.inference.base import LearnerHawkesNoParam\n",
    "\n",
    "from functions import compute_skew\n",
    "\n",
    "import sys\n",
    "sys.path.append('/home/users/ruan/ANotebook/spread/Models')\n",
    "from dump_load import DataBox"
   ]
  },
  {
   "cell_type": "code",
   "execution_count": 38,
   "id": "bf7750b7",
   "metadata": {},
   "outputs": [
    {
     "name": "stdout",
     "output_type": "stream",
     "text": [
      "The autoreload extension is already loaded. To reload it, use:\n",
      "  %reload_ext autoreload\n"
     ]
    }
   ],
   "source": [
    "%load_ext autoreload\n",
    "%autoreload 2\n",
    "%matplotlib inline"
   ]
  },
  {
   "cell_type": "code",
   "execution_count": null,
   "id": "d7104c1d",
   "metadata": {},
   "outputs": [],
   "source": []
  },
  {
   "cell_type": "code",
   "execution_count": 39,
   "id": "4750da7a",
   "metadata": {},
   "outputs": [
    {
     "name": "stdout",
     "output_type": "stream",
     "text": [
      "[ 0.49595141  0.18021064 -0.30207779 -0.17408426]\n"
     ]
    }
   ],
   "source": [
    "#parameters setting\n",
    "alpha = np.array([[0.1, 0.3, 0.1, 0], \n",
    "                  [0.3, 0., 0.1, 0.2],\n",
    "                  [0.1, 0.1, 0, 0.3],\n",
    "                  [0, 0.1, 0.2, 0.1]])\n",
    "beta = 20\n",
    "\n",
    "mu_tot = 1\n",
    "#r is the proportion of exogenous order\n",
    "r = 0.6\n",
    "mu = (1-r) * mu_tot * np.ones((4))\n",
    "lam = r * mu_tot * np.ones((2))\n",
    "delay = 0.05\n",
    "T = 2000\n",
    "n_realizations = 20\n",
    "\n",
    "print(np.linalg.eig(alpha)[0])"
   ]
  },
  {
   "cell_type": "code",
   "execution_count": 6,
   "id": "1d9e8dca",
   "metadata": {},
   "outputs": [
    {
     "name": "stdout",
     "output_type": "stream",
     "text": [
      "Cov micro: [4.22035776 3.74544879]\n",
      "Cov macro: [[2.9567275  1.15122286]\n",
      " [1.15122286 2.71649894]]\n"
     ]
    }
   ],
   "source": [
    "norm_phi = alpha\n",
    "R = np.linalg.inv(np.eye(4) - norm_phi)\n",
    "lamlam = np.concatenate((lam, lam))\n",
    "Lp = R @ (mu + lamlam) # Lp[1] is the \\Lambda price1+ process, sum of two processes\n",
    "C = R @ (np.diag(Lp) + np.kron(np.array([[0,1],[1,0]]), np.diag(lam))) @ R.T\n",
    "\n",
    "hawkes_to_price = np.array([[1, -1, 0, 0], [0, 0, 1, -1]])\n",
    "Lam_price = np.array([[1, 1, 0, 0], [0, 0, 1, 1]]) @ Lp\n",
    "C_price = hawkes_to_price @ C @ hawkes_to_price.T\n",
    "correl_price = C_price[0,1] / np.sqrt(C_price[0,0] * C_price[1,1])\n",
    "print('Cov micro:', Lam_price)\n",
    "print('Cov macro:', C_price)\n",
    "## print('Corrélation:', correl_price)"
   ]
  },
  {
   "cell_type": "code",
   "execution_count": 21,
   "id": "21129316",
   "metadata": {},
   "outputs": [],
   "source": [
    "## theorical C and K values\n",
    "L_thr = tf.convert_to_tensor(Lp)\n",
    "C_thr, K_thr = theoretical_C_K_obs(Lp, lamlam, R, only_ijj=True)"
   ]
  },
  {
   "cell_type": "markdown",
   "id": "6148ae7a",
   "metadata": {},
   "source": [
    "## simulation"
   ]
  },
  {
   "cell_type": "code",
   "execution_count": 22,
   "id": "45afe247",
   "metadata": {},
   "outputs": [],
   "source": [
    "simulating = False"
   ]
  },
  {
   "cell_type": "code",
   "execution_count": 23,
   "id": "779b752a",
   "metadata": {},
   "outputs": [],
   "source": [
    "if simulating :\n",
    "    times = []\n",
    "    for i in tqdm(range(n_realizations)):\n",
    "        ns, hs = generate_hawkes_with_noise(μ=mu, α=alpha, β=beta, T=T, ν=lam, γ=delay)\n",
    "        times.append(from_mark_to_timestamps(ns, hs))\n",
    "    dic = {'alpha' : alpha, 'beta' : beta,\n",
    "      'mu':mu, 'lam_x':lam, 'T':T, 'delay':delay,\n",
    "      'data':times}\n",
    "    db = DataBox('./run/simulation')\n",
    "    db.save_pickles(dic, 'ogata_simu_6.pkl')\n",
    "    "
   ]
  },
  {
   "cell_type": "markdown",
   "id": "d5e46667",
   "metadata": {},
   "source": [
    "## estimated C and K from data"
   ]
  },
  {
   "cell_type": "code",
   "execution_count": 24,
   "id": "6ceddad7",
   "metadata": {},
   "outputs": [],
   "source": [
    "estimating = False\n",
    "if estimating:\n",
    "    db = DataBox('./run/simulation')\n",
    "    dic = db.load_pickles('clust_simu_6.pkl')\n",
    "    times = dic['data']\n",
    "    for i in range(100):\n",
    "        for j,ts in enumerate(times[i]):\n",
    "            times[i][j] = np.array(ts)"
   ]
  },
  {
   "cell_type": "code",
   "execution_count": 25,
   "id": "a7db0b16",
   "metadata": {},
   "outputs": [],
   "source": [
    "if estimating : \n",
    "    integration_support = 1 # H \n",
    "    nphc = HawkesCumulantMatching(integration_support, \n",
    "                                  cs_ratio=.15, \n",
    "                                  tol=1e-10, \n",
    "                                  step=0.3)\n",
    "    LearnerHawkesNoParam.fit(nphc, times, end_times=np.ones(len(times))*T)\n",
    "    cumcal = nphc._cumulant_computer\n",
    "    # estimate moments tick\n",
    "    # estimator Λ\n",
    "    cumcal.compute_L()\n",
    "    L_est = cumcal.L\n",
    "    # estimator C\n",
    "    cumcal.compute_C_and_J()\n",
    "    C_est = cumcal.C\n",
    "    # estimator K\n",
    "    K_est = compute_skew(cumcal)"
   ]
  },
  {
   "cell_type": "code",
   "execution_count": 26,
   "id": "65d9bf25",
   "metadata": {},
   "outputs": [],
   "source": [
    "if estimating :\n",
    "    print(L_est, Lp)\n",
    "    print(C_est, C_thr)    \n",
    "    print(tf.linalg.diag_part(K_est))"
   ]
  },
  {
   "cell_type": "markdown",
   "id": "ad7cb2d0",
   "metadata": {},
   "source": [
    "## optimization"
   ]
  },
  {
   "cell_type": "code",
   "execution_count": 27,
   "id": "1f630f22",
   "metadata": {},
   "outputs": [
    {
     "name": "stdout",
     "output_type": "stream",
     "text": [
      "0.8940205827921764\n"
     ]
    }
   ],
   "source": [
    "opt = Optim_tf(4)\n",
    "\n",
    "### using theoretical value\n",
    "L_obs = tf.convert_to_tensor(L_thr)\n",
    "C_obs = tf.convert_to_tensor(C_thr)\n",
    "K_obs = tf.convert_to_tensor(K_thr)\n",
    "opt.set_L_C_K(L_obs, C_obs, K_obs)"
   ]
  },
  {
   "cell_type": "code",
   "execution_count": 28,
   "id": "d652dfcf",
   "metadata": {},
   "outputs": [],
   "source": [
    "# C_obs, K_obs"
   ]
  },
  {
   "cell_type": "code",
   "execution_count": 29,
   "id": "600142f6",
   "metadata": {},
   "outputs": [
    {
     "name": "stdout",
     "output_type": "stream",
     "text": [
      "[ 0.27103921 -0.05561173 -0.00618941  0.11127682]\n"
     ]
    }
   ],
   "source": [
    "opt.set_init_value()\n",
    "opt.set_variables()"
   ]
  },
  {
   "cell_type": "code",
   "execution_count": 30,
   "id": "4ad2c7eb",
   "metadata": {},
   "outputs": [
    {
     "data": {
      "text/plain": [
       "[<tf.Variable 'R:0' shape=(4, 4) dtype=float64, numpy=\n",
       " array([[1.02787364, 0.05299902, 0.07745906, 0.05297661],\n",
       "        [0.06861662, 1.05563048, 0.13502512, 0.07681643],\n",
       "        [0.04284085, 0.18815511, 1.20985085, 0.05080822],\n",
       "        [0.00856409, 0.12416275, 0.03096539, 1.14483736]])>,\n",
       " <tf.Variable 'L:0' shape=(2,) dtype=float64, numpy=array([1., 1.])>]"
      ]
     },
     "execution_count": 30,
     "metadata": {},
     "output_type": "execute_result"
    }
   ],
   "source": [
    "opt.variables"
   ]
  },
  {
   "cell_type": "code",
   "execution_count": 31,
   "id": "1805348e",
   "metadata": {},
   "outputs": [
    {
     "name": "stdout",
     "output_type": "stream",
     "text": [
      "Iter:  500\n",
      "Loss:  54.70791159466761\n",
      "Iter:  1000\n",
      "Loss:  18.06353715570792\n",
      "Iter:  1500\n",
      "Loss:  8.23433367878934\n",
      "Iter:  2000\n",
      "Loss:  3.960487342973239\n",
      "Iter:  2500\n",
      "Loss:  1.6698275518909431\n",
      "Iter:  3000\n",
      "Loss:  0.603499032077458\n",
      "Iter:  3500\n",
      "Loss:  0.2220793512810246\n",
      "Iter:  4000\n",
      "Loss:  0.10886662457582807\n",
      "Iter:  4500\n",
      "Loss:  0.06579312234827256\n",
      "Iter:  5000\n",
      "Loss:  0.03855430582532892\n"
     ]
    },
    {
     "data": {
      "text/plain": [
       "[<tf.Variable 'R:0' shape=(4, 4) dtype=float64, numpy=\n",
       " array([[1.27231581, 0.41860447, 0.20548398, 0.15101736],\n",
       "        [0.41935927, 1.18201101, 0.23623417, 0.33538506],\n",
       "        [0.19641832, 0.20875978, 1.12827434, 0.41920787],\n",
       "        [0.09567096, 0.17785565, 0.27874877, 1.24151341]])>,\n",
       " <tf.Variable 'L:0' shape=(2,) dtype=float64, numpy=array([0.60028091, 0.60027434])>]"
      ]
     },
     "execution_count": 31,
     "metadata": {},
     "output_type": "execute_result"
    }
   ],
   "source": [
    "opt.train(print_every=500, n_iter=5000)"
   ]
  },
  {
   "cell_type": "code",
   "execution_count": 40,
   "id": "f8b495d0",
   "metadata": {},
   "outputs": [
    {
     "data": {
      "text/plain": [
       "<AxesSubplot:>"
      ]
     },
     "execution_count": 40,
     "metadata": {},
     "output_type": "execute_result"
    },
    {
     "data": {
      "image/png": "[encoded data removed]",
      "text/plain": [
       "<Figure size 576x432 with 8 Axes>"
      ]
     },
     "metadata": {
      "needs_background": "light"
     },
     "output_type": "display_data"
    }
   ],
   "source": [
    "opt.reconstruct_C_K()\n",
    "fig, axes = plt.subplots(2,2,figsize=(8,6))\n",
    "sns.heatmap(np.abs(C_thr-opt.C_obs), ax=axes[0,0],annot=True, fmt='.2f')\n",
    "sns.heatmap(np.abs(opt.C_obs-opt.C_opt), ax=axes[0,1],annot=True, fmt='.2f')\n",
    "# sns.heatmap(opt.C_opt, ax=axes[0,2],annot=True, fmt='.2f')\n",
    "sns.heatmap(np.abs(K_thr-opt.K_obs), ax=axes[1,0],annot=True, fmt='.2f')\n",
    "sns.heatmap(np.abs(opt.K_obs-tf.linalg.diag_part(opt.K_opt)), ax=axes[1,1],annot=True, fmt='.2f')"
   ]
  },
  {
   "cell_type": "code",
   "execution_count": 41,
   "id": "8428a35d",
   "metadata": {},
   "outputs": [
    {
     "data": {
      "text/plain": [
       "<AxesSubplot:>"
      ]
     },
     "execution_count": 41,
     "metadata": {},
     "output_type": "execute_result"
    },
    {
     "data": {
      "image/png": "[encoded data removed]",
      "text/plain": [
       "<Figure size 576x432 with 8 Axes>"
      ]
     },
     "metadata": {
      "needs_background": "light"
     },
     "output_type": "display_data"
    }
   ],
   "source": [
    "\n",
    "fig, axes = plt.subplots(2,2,figsize=(8,6))\n",
    "sns.heatmap(R, ax=axes[0,0],annot=True, fmt='.2f')\n",
    "sns.heatmap(opt.R_opt, ax=axes[0,1],annot=True, fmt='.2f')\n",
    "sns.heatmap(alpha, ax=axes[1,0],annot=True, fmt='.2f')\n",
    "sns.heatmap(opt.phi_opt, ax=axes[1,1],annot=True, fmt='.2f')"
   ]
  },
  {
   "cell_type": "code",
   "execution_count": null,
   "id": "e472b641",
   "metadata": {},
   "outputs": [],
   "source": []
  }
 ],
 "metadata": {
  "kernelspec": {
   "display_name": "Python 3 (ipykernel)",
   "language": "python",
   "name": "python3"
  },
  "language_info": {
   "codemirror_mode": {
    "name": "ipython",
    "version": 3
   },
   "file_extension": ".py",
   "mimetype": "text/x-python",
   "name": "python",
   "nbconvert_exporter": "python",
   "pygments_lexer": "ipython3",
   "version": "3.8.8"
  }
 },
 "nbformat": 4,
 "nbformat_minor": 5
}
